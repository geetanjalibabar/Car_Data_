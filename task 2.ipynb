{
 "cells": [
  {
   "cell_type": "code",
   "execution_count": 1,
   "id": "0a7c2fe4-23d2-4e11-9c57-2674d7971a19",
   "metadata": {},
   "outputs": [],
   "source": [
    "import pandas as pd\n",
    "import numpy as np\n",
    "import matplotlib.pyplot as plt\n",
    "import seaborn as sns"
   ]
  },
  {
   "cell_type": "code",
   "execution_count": 2,
   "id": "5c04eac6-6aa3-468f-8eef-f12703d401b6",
   "metadata": {},
   "outputs": [
    {
     "data": {
      "text/html": [
       "<div>\n",
       "<style scoped>\n",
       "    .dataframe tbody tr th:only-of-type {\n",
       "        vertical-align: middle;\n",
       "    }\n",
       "\n",
       "    .dataframe tbody tr th {\n",
       "        vertical-align: top;\n",
       "    }\n",
       "\n",
       "    .dataframe thead th {\n",
       "        text-align: right;\n",
       "    }\n",
       "</style>\n",
       "<table border=\"1\" class=\"dataframe\">\n",
       "  <thead>\n",
       "    <tr style=\"text-align: right;\">\n",
       "      <th></th>\n",
       "      <th>Car_Name</th>\n",
       "      <th>Year</th>\n",
       "      <th>Selling_Price</th>\n",
       "      <th>Present_Price</th>\n",
       "      <th>Kms_Driven</th>\n",
       "      <th>Fuel_Type</th>\n",
       "      <th>Seller_Type</th>\n",
       "      <th>Transmission</th>\n",
       "      <th>Owner</th>\n",
       "    </tr>\n",
       "  </thead>\n",
       "  <tbody>\n",
       "    <tr>\n",
       "      <th>0</th>\n",
       "      <td>ritz</td>\n",
       "      <td>2014</td>\n",
       "      <td>3.35</td>\n",
       "      <td>5.59</td>\n",
       "      <td>27000</td>\n",
       "      <td>Petrol</td>\n",
       "      <td>Dealer</td>\n",
       "      <td>Manual</td>\n",
       "      <td>0</td>\n",
       "    </tr>\n",
       "    <tr>\n",
       "      <th>1</th>\n",
       "      <td>sx4</td>\n",
       "      <td>2013</td>\n",
       "      <td>4.75</td>\n",
       "      <td>9.54</td>\n",
       "      <td>43000</td>\n",
       "      <td>Diesel</td>\n",
       "      <td>Dealer</td>\n",
       "      <td>Manual</td>\n",
       "      <td>0</td>\n",
       "    </tr>\n",
       "    <tr>\n",
       "      <th>2</th>\n",
       "      <td>ciaz</td>\n",
       "      <td>2017</td>\n",
       "      <td>7.25</td>\n",
       "      <td>9.85</td>\n",
       "      <td>6900</td>\n",
       "      <td>Petrol</td>\n",
       "      <td>Dealer</td>\n",
       "      <td>Manual</td>\n",
       "      <td>0</td>\n",
       "    </tr>\n",
       "    <tr>\n",
       "      <th>3</th>\n",
       "      <td>wagon r</td>\n",
       "      <td>2011</td>\n",
       "      <td>2.85</td>\n",
       "      <td>4.15</td>\n",
       "      <td>5200</td>\n",
       "      <td>Petrol</td>\n",
       "      <td>Dealer</td>\n",
       "      <td>Manual</td>\n",
       "      <td>0</td>\n",
       "    </tr>\n",
       "    <tr>\n",
       "      <th>4</th>\n",
       "      <td>swift</td>\n",
       "      <td>2014</td>\n",
       "      <td>4.60</td>\n",
       "      <td>6.87</td>\n",
       "      <td>42450</td>\n",
       "      <td>Diesel</td>\n",
       "      <td>Dealer</td>\n",
       "      <td>Manual</td>\n",
       "      <td>0</td>\n",
       "    </tr>\n",
       "    <tr>\n",
       "      <th>...</th>\n",
       "      <td>...</td>\n",
       "      <td>...</td>\n",
       "      <td>...</td>\n",
       "      <td>...</td>\n",
       "      <td>...</td>\n",
       "      <td>...</td>\n",
       "      <td>...</td>\n",
       "      <td>...</td>\n",
       "      <td>...</td>\n",
       "    </tr>\n",
       "    <tr>\n",
       "      <th>296</th>\n",
       "      <td>city</td>\n",
       "      <td>2016</td>\n",
       "      <td>9.50</td>\n",
       "      <td>11.60</td>\n",
       "      <td>33988</td>\n",
       "      <td>Diesel</td>\n",
       "      <td>Dealer</td>\n",
       "      <td>Manual</td>\n",
       "      <td>0</td>\n",
       "    </tr>\n",
       "    <tr>\n",
       "      <th>297</th>\n",
       "      <td>brio</td>\n",
       "      <td>2015</td>\n",
       "      <td>4.00</td>\n",
       "      <td>5.90</td>\n",
       "      <td>60000</td>\n",
       "      <td>Petrol</td>\n",
       "      <td>Dealer</td>\n",
       "      <td>Manual</td>\n",
       "      <td>0</td>\n",
       "    </tr>\n",
       "    <tr>\n",
       "      <th>298</th>\n",
       "      <td>city</td>\n",
       "      <td>2009</td>\n",
       "      <td>3.35</td>\n",
       "      <td>11.00</td>\n",
       "      <td>87934</td>\n",
       "      <td>Petrol</td>\n",
       "      <td>Dealer</td>\n",
       "      <td>Manual</td>\n",
       "      <td>0</td>\n",
       "    </tr>\n",
       "    <tr>\n",
       "      <th>299</th>\n",
       "      <td>city</td>\n",
       "      <td>2017</td>\n",
       "      <td>11.50</td>\n",
       "      <td>12.50</td>\n",
       "      <td>9000</td>\n",
       "      <td>Diesel</td>\n",
       "      <td>Dealer</td>\n",
       "      <td>Manual</td>\n",
       "      <td>0</td>\n",
       "    </tr>\n",
       "    <tr>\n",
       "      <th>300</th>\n",
       "      <td>brio</td>\n",
       "      <td>2016</td>\n",
       "      <td>5.30</td>\n",
       "      <td>5.90</td>\n",
       "      <td>5464</td>\n",
       "      <td>Petrol</td>\n",
       "      <td>Dealer</td>\n",
       "      <td>Manual</td>\n",
       "      <td>0</td>\n",
       "    </tr>\n",
       "  </tbody>\n",
       "</table>\n",
       "<p>301 rows × 9 columns</p>\n",
       "</div>"
      ],
      "text/plain": [
       "    Car_Name  Year  Selling_Price  Present_Price  Kms_Driven Fuel_Type  \\\n",
       "0       ritz  2014           3.35           5.59       27000    Petrol   \n",
       "1        sx4  2013           4.75           9.54       43000    Diesel   \n",
       "2       ciaz  2017           7.25           9.85        6900    Petrol   \n",
       "3    wagon r  2011           2.85           4.15        5200    Petrol   \n",
       "4      swift  2014           4.60           6.87       42450    Diesel   \n",
       "..       ...   ...            ...            ...         ...       ...   \n",
       "296     city  2016           9.50          11.60       33988    Diesel   \n",
       "297     brio  2015           4.00           5.90       60000    Petrol   \n",
       "298     city  2009           3.35          11.00       87934    Petrol   \n",
       "299     city  2017          11.50          12.50        9000    Diesel   \n",
       "300     brio  2016           5.30           5.90        5464    Petrol   \n",
       "\n",
       "    Seller_Type Transmission  Owner  \n",
       "0        Dealer       Manual      0  \n",
       "1        Dealer       Manual      0  \n",
       "2        Dealer       Manual      0  \n",
       "3        Dealer       Manual      0  \n",
       "4        Dealer       Manual      0  \n",
       "..          ...          ...    ...  \n",
       "296      Dealer       Manual      0  \n",
       "297      Dealer       Manual      0  \n",
       "298      Dealer       Manual      0  \n",
       "299      Dealer       Manual      0  \n",
       "300      Dealer       Manual      0  \n",
       "\n",
       "[301 rows x 9 columns]"
      ]
     },
     "execution_count": 2,
     "metadata": {},
     "output_type": "execute_result"
    }
   ],
   "source": [
    "df = pd.read_csv(\"Car_data.csv\")\n",
    "df"
   ]
  },
  {
   "cell_type": "code",
   "execution_count": null,
   "id": "487e73f8-d3f5-477d-bb68-05615b2229f2",
   "metadata": {},
   "outputs": [],
   "source": []
  },
  {
   "cell_type": "code",
   "execution_count": 3,
   "id": "9945b0be-16cf-4e25-a99e-937b96b526f1",
   "metadata": {},
   "outputs": [
    {
     "name": "stdout",
     "output_type": "stream",
     "text": [
      "\n",
      "15. Car with Highest Present Price:\n",
      "         Car_Name  Present_Price\n",
      "86  land cruiser           92.6\n"
     ]
    }
   ],
   "source": [
    "# 15. Car with highest Present Price\n",
    "most_exp_car = df[df['Present_Price'] == df['Present_Price'].max()]\n",
    "print(\"\\n15. Car with Highest Present Price:\\n\", most_exp_car[['Car_Name', 'Present_Price']])"
   ]
  },
  {
   "cell_type": "code",
   "execution_count": 4,
   "id": "06488c3e-2ca5-41a5-b320-41d9361cb8ce",
   "metadata": {},
   "outputs": [
    {
     "name": "stdout",
     "output_type": "stream",
     "text": [
      "\n",
      "16. Correlation:\n",
      "                Selling_Price  Present_Price  Kms_Driven\n",
      "Selling_Price       1.000000       0.878983    0.029187\n",
      "Present_Price       0.878983       1.000000    0.203647\n",
      "Kms_Driven          0.029187       0.203647    1.000000\n"
     ]
    }
   ],
   "source": [
    "# 16. Correlation matrix\n",
    "print(\"\\n16. Correlation:\\n\", df[['Selling_Price', 'Present_Price', 'Kms_Driven']].corr())"
   ]
  },
  {
   "cell_type": "code",
   "execution_count": 5,
   "id": "990aad41-d2b4-42fc-8639-bf36a41e3b91",
   "metadata": {},
   "outputs": [
    {
     "name": "stdout",
     "output_type": "stream",
     "text": [
      "\n",
      "17. Avg Selling Price by Seller Type:\n",
      " Seller_Type\n",
      "Dealer        6.721692\n",
      "Individual    0.870943\n",
      "Name: Selling_Price, dtype: float64\n"
     ]
    }
   ],
   "source": [
    "# 17. Avg Selling Price by Seller Type\n",
    "print(\"\\n17. Avg Selling Price by Seller Type:\\n\", df.groupby('Seller_Type')['Selling_Price'].mean())"
   ]
  },
  {
   "cell_type": "code",
   "execution_count": 6,
   "id": "18d4518c-6704-4d3b-8e59-8f4d118f7734",
   "metadata": {},
   "outputs": [
    {
     "name": "stdout",
     "output_type": "stream",
     "text": [
      "\n",
      "18. Count of Fuel Types:\n",
      " Fuel_Type\n",
      "Petrol    239\n",
      "Diesel     60\n",
      "CNG         2\n",
      "Name: count, dtype: int64\n"
     ]
    }
   ],
   "source": [
    "# 18. Count of each Fuel Type\n",
    "print(\"\\n18. Count of Fuel Types:\\n\", df['Fuel_Type'].value_counts())"
   ]
  },
  {
   "cell_type": "code",
   "execution_count": 7,
   "id": "f9da980c-6b5f-4b1c-abe8-b860d743d265",
   "metadata": {},
   "outputs": [
    {
     "name": "stdout",
     "output_type": "stream",
     "text": [
      "\n",
      "19. Cars with >1 Owner: 1\n"
     ]
    }
   ],
   "source": [
    "# 19. Count of cars with more than 1 owner\n",
    "print(\"\\n19. Cars with >1 Owner:\", len(df[df['Owner'] > 1]))"
   ]
  },
  {
   "cell_type": "code",
   "execution_count": 8,
   "id": "570f475e-f2b5-4f97-92d9-56950f061386",
   "metadata": {},
   "outputs": [
    {
     "name": "stdout",
     "output_type": "stream",
     "text": [
      "\n",
      "20. Top 5 Most Expensive Cars:\n",
      "         Car_Name  Year  Selling_Price  Present_Price  Kms_Driven Fuel_Type  \\\n",
      "86  land cruiser  2010           35.0          92.60       78000    Diesel   \n",
      "64      fortuner  2017           33.0          36.23        6000    Diesel   \n",
      "63      fortuner  2015           23.5          35.96       47000    Diesel   \n",
      "51      fortuner  2015           23.0          30.61       40000    Diesel   \n",
      "93      fortuner  2015           23.0          30.61       40000    Diesel   \n",
      "\n",
      "   Seller_Type Transmission  Owner  \n",
      "86      Dealer       Manual      0  \n",
      "64      Dealer    Automatic      0  \n",
      "63      Dealer    Automatic      0  \n",
      "51      Dealer    Automatic      0  \n",
      "93      Dealer    Automatic      0  \n"
     ]
    }
   ],
   "source": [
    "# 20. Top 5 most expensive cars\n",
    "print(\"\\n20. Top 5 Most Expensive Cars:\\n\", df.sort_values(by='Selling_Price', ascending=False).head(5))"
   ]
  },
  {
   "cell_type": "code",
   "execution_count": 9,
   "id": "7936b371-0d59-4c13-ac89-16bd8cffbac7",
   "metadata": {},
   "outputs": [
    {
     "name": "stdout",
     "output_type": "stream",
     "text": [
      "21. Average difference between Present_Price and Selling_Price: 2.967176079734219\n"
     ]
    }
   ],
   "source": [
    "# 21. Average difference between Present_Price and Selling_Price\n",
    "avg_diff = (df['Present_Price'] - df['Selling_Price']).mean()\n",
    "print(\"21. Average difference between Present_Price and Selling_Price:\", avg_diff)"
   ]
  },
  {
   "cell_type": "code",
   "execution_count": 10,
   "id": "4db36131-5ea0-4e3d-962b-5ff669045bb1",
   "metadata": {},
   "outputs": [
    {
     "name": "stdout",
     "output_type": "stream",
     "text": [
      "\n",
      "22. Cars sold by Seller_Type:\n",
      " Seller_Type\n",
      "Dealer        195\n",
      "Individual    106\n",
      "Name: count, dtype: int64\n"
     ]
    }
   ],
   "source": [
    "# 22. Number of cars sold by Individual vs Dealer\n",
    "seller_counts = df['Seller_Type'].value_counts()\n",
    "print(\"\\n22. Cars sold by Seller_Type:\\n\", seller_counts)"
   ]
  },
  {
   "cell_type": "code",
   "execution_count": 11,
   "id": "023f5146-208b-43c7-8995-7317dd5c18e3",
   "metadata": {},
   "outputs": [
    {
     "name": "stdout",
     "output_type": "stream",
     "text": [
      "\n",
      "23. Cars manufactured before 2010: 26\n"
     ]
    }
   ],
   "source": [
    "# 23. Number of cars manufactured before 2010\n",
    "before_2010 = df[df['Year'] < 2010].shape[0]\n",
    "print(\"\\n23. Cars manufactured before 2010:\", before_2010)"
   ]
  },
  {
   "cell_type": "code",
   "execution_count": 23,
   "id": "d89f6184-5d01-4e73-9126-4984397adfe3",
   "metadata": {},
   "outputs": [
    {
     "name": "stdout",
     "output_type": "stream",
     "text": [
      "\n",
      "24. Year with highest listings: 2015 with 61 cars\n"
     ]
    }
   ],
   "source": [
    "# 24. Year with highest number of car listings\n",
    "year_counts = df['Year'].value_counts()\n",
    "top_year = year_counts.idxmax()\n",
    "print(\"\\n24. Year with highest listings:\", top_year, \"with\", year_counts.max(), \"cars\")"
   ]
  },
  {
   "cell_type": "code",
   "execution_count": null,
   "id": "ef5eb8b3-c8c0-464f-b6e2-6fe1dbdc7d16",
   "metadata": {},
   "outputs": [],
   "source": [
    "# 25. Percentage of cars by fuel type\n",
    "fuel_percent = df['Fuel_Type'].value_counts(normalize=True) * 100\n",
    "print(\"\\n25. Percentage of cars by Fuel_Type:\\n\", fuel_percent)"
   ]
  },
  {
   "cell_type": "code",
   "execution_count": 14,
   "id": "54229233-105a-48b5-802c-de59ab074f57",
   "metadata": {},
   "outputs": [
    {
     "name": "stdout",
     "output_type": "stream",
     "text": [
      "\n",
      "26. Kms_Driven stats by Fuel_Type:\n",
      "              min     max\n",
      "Fuel_Type               \n",
      "CNG        35500   49998\n",
      "Diesel      2071  197176\n",
      "Petrol       500  500000\n"
     ]
    }
   ],
   "source": [
    "# 26. Highest and lowest Kms_Driven for each fuel type\n",
    "kms_stats = df.groupby('Fuel_Type')['Kms_Driven'].agg(['min', 'max'])\n",
    "print(\"\\n26. Kms_Driven stats by Fuel_Type:\\n\", kms_stats)"
   ]
  },
  {
   "cell_type": "code",
   "execution_count": 15,
   "id": "4c16f7d1-4c9e-4925-baf3-c7e6b94dbede",
   "metadata": {},
   "outputs": [
    {
     "name": "stdout",
     "output_type": "stream",
     "text": [
      "\n",
      "27. Cars with 0 previous owners: 290\n"
     ]
    }
   ],
   "source": [
    "# 27. Number of cars with exactly 0 previous owners\n",
    "zero_owner = df[df['Owner'] == 0].shape[0]\n",
    "print(\"\\n27. Cars with 0 previous owners:\", zero_owner)"
   ]
  },
  {
   "cell_type": "code",
   "execution_count": 16,
   "id": "e515d5bb-01b0-4d65-a92b-a9e2a4d622e3",
   "metadata": {},
   "outputs": [
    {
     "name": "stdout",
     "output_type": "stream",
     "text": [
      "\n",
      "28. Unique Fuel_Type, Seller_Type, Transmission combinations: 8\n"
     ]
    }
   ],
   "source": [
    "# 28. Unique combinations of Fuel_Type, Seller_Type, and Transmission\n",
    "unique_combos = df[['Fuel_Type', 'Seller_Type', 'Transmission']].drop_duplicates().shape[0]\n",
    "print(\"\\n28. Unique Fuel_Type, Seller_Type, Transmission combinations:\", unique_combos)"
   ]
  },
  {
   "cell_type": "code",
   "execution_count": 17,
   "id": "cf0e24a0-3373-4ca2-9a56-56d275eec1ff",
   "metadata": {},
   "outputs": [
    {
     "name": "stdout",
     "output_type": "stream",
     "text": [
      "\n",
      "29. Avg Selling_Price with >2 owners: 2.5\n"
     ]
    }
   ],
   "source": [
    "# 29. Average Selling_Price of cars with more than 2 previous owners\n",
    "avg_price_over2_owners = df[df['Owner'] > 2]['Selling_Price'].mean()\n",
    "print(\"\\n29. Avg Selling_Price with >2 owners:\", avg_price_over2_owners)"
   ]
  },
  {
   "cell_type": "code",
   "execution_count": 19,
   "id": "8dbedcb8-a962-433b-b81e-dacfbb831d61",
   "metadata": {},
   "outputs": [
    {
     "name": "stdout",
     "output_type": "stream",
     "text": [
      "\n",
      "30. Cars with Selling_Price > Present_Price: 0\n"
     ]
    }
   ],
   "source": [
    "#30. Cars where Selling_Price is greater than Present_Price\n",
    "selling_gt_present = df[df['Selling_Price'] > df['Present_Price']].shape[0]\n",
    "print(\"\\n30. Cars with Selling_Price > Present_Price:\", selling_gt_present)"
   ]
  }
 ],
 "metadata": {
  "kernelspec": {
   "display_name": "Python 3 (ipykernel)",
   "language": "python",
   "name": "python3"
  },
  "language_info": {
   "codemirror_mode": {
    "name": "ipython",
    "version": 3
   },
   "file_extension": ".py",
   "mimetype": "text/x-python",
   "name": "python",
   "nbconvert_exporter": "python",
   "pygments_lexer": "ipython3",
   "version": "3.13.5"
  }
 },
 "nbformat": 4,
 "nbformat_minor": 5
}
